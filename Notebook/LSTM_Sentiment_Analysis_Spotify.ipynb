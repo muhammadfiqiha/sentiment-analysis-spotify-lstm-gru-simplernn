{
  "nbformat": 4,
  "nbformat_minor": 0,
  "metadata": {
    "colab": {
      "provenance": [],
      "collapsed_sections": [
        "QrlYke6RF0FE"
      ]
    },
    "kernelspec": {
      "name": "python3",
      "display_name": "Python 3"
    },
    "language_info": {
      "name": "python"
    }
  },
  "cells": [
    {
      "cell_type": "markdown",
      "source": [
        "# Import Libraries and Dependencies"
      ],
      "metadata": {
        "id": "LvOU-AhAFSHE"
      }
    },
    {
      "cell_type": "code",
      "execution_count": null,
      "metadata": {
        "colab": {
          "base_uri": "https://localhost:8080/"
        },
        "id": "5UnGVHsKFG3A",
        "outputId": "cd033989-6024-404f-9197-7bceeb70dd1e"
      },
      "outputs": [
        {
          "output_type": "stream",
          "name": "stdout",
          "text": [
            "Collecting google-play-scraper\n",
            "  Downloading google_play_scraper-1.2.7-py3-none-any.whl.metadata (50 kB)\n",
            "\u001b[?25l     \u001b[90m━━━━━━━━━━━━━━━━━━━━━━━━━━━━━━━━━━━━━━━━\u001b[0m \u001b[32m0.0/50.2 kB\u001b[0m \u001b[31m?\u001b[0m eta \u001b[36m-:--:--\u001b[0m\r\u001b[2K     \u001b[90m━━━━━━━━━━━━━━━━━━━━━━━━━━━━━━━━━━━━━━━━\u001b[0m \u001b[32m50.2/50.2 kB\u001b[0m \u001b[31m1.9 MB/s\u001b[0m eta \u001b[36m0:00:00\u001b[0m\n",
            "\u001b[?25hDownloading google_play_scraper-1.2.7-py3-none-any.whl (28 kB)\n",
            "Installing collected packages: google-play-scraper\n",
            "Successfully installed google-play-scraper-1.2.7\n",
            "Collecting sastrawi\n",
            "  Downloading Sastrawi-1.0.1-py2.py3-none-any.whl.metadata (909 bytes)\n",
            "Downloading Sastrawi-1.0.1-py2.py3-none-any.whl (209 kB)\n",
            "\u001b[2K   \u001b[90m━━━━━━━━━━━━━━━━━━━━━━━━━━━━━━━━━━━━━━━━\u001b[0m \u001b[32m209.7/209.7 kB\u001b[0m \u001b[31m3.4 MB/s\u001b[0m eta \u001b[36m0:00:00\u001b[0m\n",
            "\u001b[?25hInstalling collected packages: sastrawi\n",
            "Successfully installed sastrawi-1.0.1\n"
          ]
        },
        {
          "output_type": "stream",
          "name": "stderr",
          "text": [
            "[nltk_data] Downloading package punkt_tab to /root/nltk_data...\n",
            "[nltk_data]   Unzipping tokenizers/punkt_tab.zip.\n",
            "[nltk_data] Downloading package stopwords to /root/nltk_data...\n",
            "[nltk_data]   Unzipping corpora/stopwords.zip.\n"
          ]
        },
        {
          "output_type": "execute_result",
          "data": {
            "text/plain": [
              "True"
            ]
          },
          "metadata": {},
          "execution_count": 1
        }
      ],
      "source": [
        "!pip install google-play-scraper\n",
        "\n",
        "# Import google play scraper library to access the app's review from google playstore\n",
        "from google_play_scraper import app, reviews, Sort, reviews_all\n",
        "\n",
        "import pandas as pd\n",
        "pd.options.mode.chained_assignment = None\n",
        "import numpy as np\n",
        "seed = 0\n",
        "np.random.seed(seed)\n",
        "import matplotlib.pyplot as plt  # for visualization\n",
        "import seaborn as sns  # for visualization\n",
        "from sklearn.metrics import accuracy_score\n",
        "\n",
        "import datetime as dt  # for date\n",
        "import re  # For regex\n",
        "import string  # String constant for punctuation\n",
        "from nltk.tokenize import word_tokenize  # Tokenize teks\n",
        "from nltk.corpus import stopwords  # Stopwords list\n",
        "\n",
        "from wordcloud import WordCloud  # Visualize for word cloud\n",
        "\n",
        "import nltk  # Import NLTK (Natural Language Toolkit).\n",
        "nltk.download('punkt_tab')  # Dataset for tokenization\n",
        "nltk.download('stopwords')  # Dataset for stopwords"
      ]
    },
    {
      "cell_type": "markdown",
      "source": [
        "# Data Wrangling"
      ],
      "metadata": {
        "id": "EaURpO1JOH-w"
      }
    },
    {
      "cell_type": "markdown",
      "source": [
        "## Data Gathering"
      ],
      "metadata": {
        "id": "SxEbOKySOQW3"
      }
    },
    {
      "cell_type": "markdown",
      "source": [
        "### Scraping Dataset"
      ],
      "metadata": {
        "id": "QrlYke6RF0FE"
      }
    },
    {
      "cell_type": "code",
      "source": [
        "# Import google play scraper library to access the app's review from google playstore\n",
        "from google_play_scraper import app, reviews_all, Sort\n",
        "\n",
        "scrapreview = reviews_all(\n",
        "    'com.spotify.music',   # App id\n",
        "    lang='en',             # Language (default: 'en')\n",
        "    country='us',          # Country (default: 'us')\n",
        "    sort=Sort.MOST_RELEVANT, # Sort by (default: Sort.MOST_RELEVANT)\n",
        "    count=10000             # Max reviews that will be scraped\n",
        ")"
      ],
      "metadata": {
        "id": "CyO6tKj4Fd17"
      },
      "execution_count": null,
      "outputs": []
    },
    {
      "cell_type": "code",
      "source": [
        "# save to csv file\n",
        "import csv\n",
        "\n",
        "with open('app_review.csv', mode='w', newline='', encoding='utf-8') as file:\n",
        "    writer = csv.writer(file)\n",
        "    writer.writerow(['Review'])  # Write column header\n",
        "    for review in scrapreview:\n",
        "        writer.writerow([review['content']])  # Write review content"
      ],
      "metadata": {
        "id": "_LCsTA8GHpk5"
      },
      "execution_count": null,
      "outputs": []
    },
    {
      "cell_type": "code",
      "source": [
        "# create csv file from scraped data\n",
        "app_reviews_df = pd.DataFrame(scrapreview)\n",
        "app_reviews_df.shape\n",
        "app_reviews_df.head()\n",
        "app_reviews_df.to_csv('app_review.csv', index=False)"
      ],
      "metadata": {
        "id": "qlL7xFjONUf3"
      },
      "execution_count": null,
      "outputs": []
    },
    {
      "cell_type": "markdown",
      "source": [
        "### Load Dataset"
      ],
      "metadata": {
        "id": "sV8i81xgN-Zg"
      }
    },
    {
      "cell_type": "code",
      "source": [
        "# create the dataframe from the dataset (csv)\n",
        "app_reviews_df = pd.read_csv('app_review.csv')"
      ],
      "metadata": {
        "id": "YnUs-QxApJph"
      },
      "execution_count": null,
      "outputs": []
    },
    {
      "cell_type": "code",
      "source": [
        "app_reviews_df.head()"
      ],
      "metadata": {
        "id": "zzCVeGJpNx9X",
        "colab": {
          "base_uri": "https://localhost:8080/",
          "height": 608
        },
        "outputId": "1ceab479-5430-4b1e-93a4-1050af9f472f"
      },
      "execution_count": null,
      "outputs": [
        {
          "output_type": "execute_result",
          "data": {
            "text/plain": [
              "                               reviewId       userName  \\\n",
              "0  c5de7d25-db91-4088-b575-32040d2f3fc3  A Google user   \n",
              "1  dc8d3fbc-9c5a-4c59-a3a5-498594f30899  A Google user   \n",
              "2  87ab6fd3-665e-4563-8326-b9ce5fa9a140  A Google user   \n",
              "3  24703eef-25b2-4bce-ab87-ff3d1210e805  A Google user   \n",
              "4  3dfe850c-5bda-4370-8b37-be138ff96c00  A Google user   \n",
              "\n",
              "                                           userImage  \\\n",
              "0  https://play-lh.googleusercontent.com/EGemoI2N...   \n",
              "1  https://play-lh.googleusercontent.com/EGemoI2N...   \n",
              "2  https://play-lh.googleusercontent.com/EGemoI2N...   \n",
              "3  https://play-lh.googleusercontent.com/EGemoI2N...   \n",
              "4  https://play-lh.googleusercontent.com/EGemoI2N...   \n",
              "\n",
              "                                             content  score  thumbsUpCount  \\\n",
              "0  I usually love Spotify, I even have premium, b...      1            975   \n",
              "1  Why in the world did they have to put a pay wa...      1            112   \n",
              "2  SHUFFLE absolutely SUCKS. Playing the same exa...      2            176   \n",
              "3  It is what you pay for these days. And ever si...      3              2   \n",
              "4  Spotify again is pushing updates and requireme...      2             96   \n",
              "\n",
              "  reviewCreatedVersion                   at  \\\n",
              "0           9.0.40.391  2025-05-06 04:36:58   \n",
              "1           9.0.40.391  2025-05-14 05:52:21   \n",
              "2           9.0.42.529  2025-05-09 23:01:51   \n",
              "3           9.0.44.478  2025-05-18 19:05:59   \n",
              "4           9.0.44.478  2025-05-14 12:00:29   \n",
              "\n",
              "                                        replyContent            repliedAt  \\\n",
              "0  Hi. Have you tried a quick reinstall? If that ...  2025-05-06 05:26:01   \n",
              "1  Hey. If you’re on our free service, you can on...  2025-05-16 11:44:04   \n",
              "2  Hi! We’d recommend restarting your device to s...  2023-04-25 04:32:45   \n",
              "3                                                NaN                  NaN   \n",
              "4  We’d suggest heading over to support.spotify.c...  2025-05-16 15:28:24   \n",
              "\n",
              "   appVersion  \n",
              "0  9.0.40.391  \n",
              "1  9.0.40.391  \n",
              "2  9.0.42.529  \n",
              "3  9.0.44.478  \n",
              "4  9.0.44.478  "
            ],
            "text/html": [
              "\n",
              "  <div id=\"df-a0858410-b477-418d-ae58-fe4b187d3eac\" class=\"colab-df-container\">\n",
              "    <div>\n",
              "<style scoped>\n",
              "    .dataframe tbody tr th:only-of-type {\n",
              "        vertical-align: middle;\n",
              "    }\n",
              "\n",
              "    .dataframe tbody tr th {\n",
              "        vertical-align: top;\n",
              "    }\n",
              "\n",
              "    .dataframe thead th {\n",
              "        text-align: right;\n",
              "    }\n",
              "</style>\n",
              "<table border=\"1\" class=\"dataframe\">\n",
              "  <thead>\n",
              "    <tr style=\"text-align: right;\">\n",
              "      <th></th>\n",
              "      <th>reviewId</th>\n",
              "      <th>userName</th>\n",
              "      <th>userImage</th>\n",
              "      <th>content</th>\n",
              "      <th>score</th>\n",
              "      <th>thumbsUpCount</th>\n",
              "      <th>reviewCreatedVersion</th>\n",
              "      <th>at</th>\n",
              "      <th>replyContent</th>\n",
              "      <th>repliedAt</th>\n",
              "      <th>appVersion</th>\n",
              "    </tr>\n",
              "  </thead>\n",
              "  <tbody>\n",
              "    <tr>\n",
              "      <th>0</th>\n",
              "      <td>c5de7d25-db91-4088-b575-32040d2f3fc3</td>\n",
              "      <td>A Google user</td>\n",
              "      <td>https://play-lh.googleusercontent.com/EGemoI2N...</td>\n",
              "      <td>I usually love Spotify, I even have premium, b...</td>\n",
              "      <td>1</td>\n",
              "      <td>975</td>\n",
              "      <td>9.0.40.391</td>\n",
              "      <td>2025-05-06 04:36:58</td>\n",
              "      <td>Hi. Have you tried a quick reinstall? If that ...</td>\n",
              "      <td>2025-05-06 05:26:01</td>\n",
              "      <td>9.0.40.391</td>\n",
              "    </tr>\n",
              "    <tr>\n",
              "      <th>1</th>\n",
              "      <td>dc8d3fbc-9c5a-4c59-a3a5-498594f30899</td>\n",
              "      <td>A Google user</td>\n",
              "      <td>https://play-lh.googleusercontent.com/EGemoI2N...</td>\n",
              "      <td>Why in the world did they have to put a pay wa...</td>\n",
              "      <td>1</td>\n",
              "      <td>112</td>\n",
              "      <td>9.0.40.391</td>\n",
              "      <td>2025-05-14 05:52:21</td>\n",
              "      <td>Hey. If you’re on our free service, you can on...</td>\n",
              "      <td>2025-05-16 11:44:04</td>\n",
              "      <td>9.0.40.391</td>\n",
              "    </tr>\n",
              "    <tr>\n",
              "      <th>2</th>\n",
              "      <td>87ab6fd3-665e-4563-8326-b9ce5fa9a140</td>\n",
              "      <td>A Google user</td>\n",
              "      <td>https://play-lh.googleusercontent.com/EGemoI2N...</td>\n",
              "      <td>SHUFFLE absolutely SUCKS. Playing the same exa...</td>\n",
              "      <td>2</td>\n",
              "      <td>176</td>\n",
              "      <td>9.0.42.529</td>\n",
              "      <td>2025-05-09 23:01:51</td>\n",
              "      <td>Hi! We’d recommend restarting your device to s...</td>\n",
              "      <td>2023-04-25 04:32:45</td>\n",
              "      <td>9.0.42.529</td>\n",
              "    </tr>\n",
              "    <tr>\n",
              "      <th>3</th>\n",
              "      <td>24703eef-25b2-4bce-ab87-ff3d1210e805</td>\n",
              "      <td>A Google user</td>\n",
              "      <td>https://play-lh.googleusercontent.com/EGemoI2N...</td>\n",
              "      <td>It is what you pay for these days. And ever si...</td>\n",
              "      <td>3</td>\n",
              "      <td>2</td>\n",
              "      <td>9.0.44.478</td>\n",
              "      <td>2025-05-18 19:05:59</td>\n",
              "      <td>NaN</td>\n",
              "      <td>NaN</td>\n",
              "      <td>9.0.44.478</td>\n",
              "    </tr>\n",
              "    <tr>\n",
              "      <th>4</th>\n",
              "      <td>3dfe850c-5bda-4370-8b37-be138ff96c00</td>\n",
              "      <td>A Google user</td>\n",
              "      <td>https://play-lh.googleusercontent.com/EGemoI2N...</td>\n",
              "      <td>Spotify again is pushing updates and requireme...</td>\n",
              "      <td>2</td>\n",
              "      <td>96</td>\n",
              "      <td>9.0.44.478</td>\n",
              "      <td>2025-05-14 12:00:29</td>\n",
              "      <td>We’d suggest heading over to support.spotify.c...</td>\n",
              "      <td>2025-05-16 15:28:24</td>\n",
              "      <td>9.0.44.478</td>\n",
              "    </tr>\n",
              "  </tbody>\n",
              "</table>\n",
              "</div>\n",
              "    <div class=\"colab-df-buttons\">\n",
              "\n",
              "  <div class=\"colab-df-container\">\n",
              "    <button class=\"colab-df-convert\" onclick=\"convertToInteractive('df-a0858410-b477-418d-ae58-fe4b187d3eac')\"\n",
              "            title=\"Convert this dataframe to an interactive table.\"\n",
              "            style=\"display:none;\">\n",
              "\n",
              "  <svg xmlns=\"http://www.w3.org/2000/svg\" height=\"24px\" viewBox=\"0 -960 960 960\">\n",
              "    <path d=\"M120-120v-720h720v720H120Zm60-500h600v-160H180v160Zm220 220h160v-160H400v160Zm0 220h160v-160H400v160ZM180-400h160v-160H180v160Zm440 0h160v-160H620v160ZM180-180h160v-160H180v160Zm440 0h160v-160H620v160Z\"/>\n",
              "  </svg>\n",
              "    </button>\n",
              "\n",
              "  <style>\n",
              "    .colab-df-container {\n",
              "      display:flex;\n",
              "      gap: 12px;\n",
              "    }\n",
              "\n",
              "    .colab-df-convert {\n",
              "      background-color: #E8F0FE;\n",
              "      border: none;\n",
              "      border-radius: 50%;\n",
              "      cursor: pointer;\n",
              "      display: none;\n",
              "      fill: #1967D2;\n",
              "      height: 32px;\n",
              "      padding: 0 0 0 0;\n",
              "      width: 32px;\n",
              "    }\n",
              "\n",
              "    .colab-df-convert:hover {\n",
              "      background-color: #E2EBFA;\n",
              "      box-shadow: 0px 1px 2px rgba(60, 64, 67, 0.3), 0px 1px 3px 1px rgba(60, 64, 67, 0.15);\n",
              "      fill: #174EA6;\n",
              "    }\n",
              "\n",
              "    .colab-df-buttons div {\n",
              "      margin-bottom: 4px;\n",
              "    }\n",
              "\n",
              "    [theme=dark] .colab-df-convert {\n",
              "      background-color: #3B4455;\n",
              "      fill: #D2E3FC;\n",
              "    }\n",
              "\n",
              "    [theme=dark] .colab-df-convert:hover {\n",
              "      background-color: #434B5C;\n",
              "      box-shadow: 0px 1px 3px 1px rgba(0, 0, 0, 0.15);\n",
              "      filter: drop-shadow(0px 1px 2px rgba(0, 0, 0, 0.3));\n",
              "      fill: #FFFFFF;\n",
              "    }\n",
              "  </style>\n",
              "\n",
              "    <script>\n",
              "      const buttonEl =\n",
              "        document.querySelector('#df-a0858410-b477-418d-ae58-fe4b187d3eac button.colab-df-convert');\n",
              "      buttonEl.style.display =\n",
              "        google.colab.kernel.accessAllowed ? 'block' : 'none';\n",
              "\n",
              "      async function convertToInteractive(key) {\n",
              "        const element = document.querySelector('#df-a0858410-b477-418d-ae58-fe4b187d3eac');\n",
              "        const dataTable =\n",
              "          await google.colab.kernel.invokeFunction('convertToInteractive',\n",
              "                                                    [key], {});\n",
              "        if (!dataTable) return;\n",
              "\n",
              "        const docLinkHtml = 'Like what you see? Visit the ' +\n",
              "          '<a target=\"_blank\" href=https://colab.research.google.com/notebooks/data_table.ipynb>data table notebook</a>'\n",
              "          + ' to learn more about interactive tables.';\n",
              "        element.innerHTML = '';\n",
              "        dataTable['output_type'] = 'display_data';\n",
              "        await google.colab.output.renderOutput(dataTable, element);\n",
              "        const docLink = document.createElement('div');\n",
              "        docLink.innerHTML = docLinkHtml;\n",
              "        element.appendChild(docLink);\n",
              "      }\n",
              "    </script>\n",
              "  </div>\n",
              "\n",
              "\n",
              "    <div id=\"df-301b43c8-e9eb-43ae-b48d-7112f7d42388\">\n",
              "      <button class=\"colab-df-quickchart\" onclick=\"quickchart('df-301b43c8-e9eb-43ae-b48d-7112f7d42388')\"\n",
              "                title=\"Suggest charts\"\n",
              "                style=\"display:none;\">\n",
              "\n",
              "<svg xmlns=\"http://www.w3.org/2000/svg\" height=\"24px\"viewBox=\"0 0 24 24\"\n",
              "     width=\"24px\">\n",
              "    <g>\n",
              "        <path d=\"M19 3H5c-1.1 0-2 .9-2 2v14c0 1.1.9 2 2 2h14c1.1 0 2-.9 2-2V5c0-1.1-.9-2-2-2zM9 17H7v-7h2v7zm4 0h-2V7h2v10zm4 0h-2v-4h2v4z\"/>\n",
              "    </g>\n",
              "</svg>\n",
              "      </button>\n",
              "\n",
              "<style>\n",
              "  .colab-df-quickchart {\n",
              "      --bg-color: #E8F0FE;\n",
              "      --fill-color: #1967D2;\n",
              "      --hover-bg-color: #E2EBFA;\n",
              "      --hover-fill-color: #174EA6;\n",
              "      --disabled-fill-color: #AAA;\n",
              "      --disabled-bg-color: #DDD;\n",
              "  }\n",
              "\n",
              "  [theme=dark] .colab-df-quickchart {\n",
              "      --bg-color: #3B4455;\n",
              "      --fill-color: #D2E3FC;\n",
              "      --hover-bg-color: #434B5C;\n",
              "      --hover-fill-color: #FFFFFF;\n",
              "      --disabled-bg-color: #3B4455;\n",
              "      --disabled-fill-color: #666;\n",
              "  }\n",
              "\n",
              "  .colab-df-quickchart {\n",
              "    background-color: var(--bg-color);\n",
              "    border: none;\n",
              "    border-radius: 50%;\n",
              "    cursor: pointer;\n",
              "    display: none;\n",
              "    fill: var(--fill-color);\n",
              "    height: 32px;\n",
              "    padding: 0;\n",
              "    width: 32px;\n",
              "  }\n",
              "\n",
              "  .colab-df-quickchart:hover {\n",
              "    background-color: var(--hover-bg-color);\n",
              "    box-shadow: 0 1px 2px rgba(60, 64, 67, 0.3), 0 1px 3px 1px rgba(60, 64, 67, 0.15);\n",
              "    fill: var(--button-hover-fill-color);\n",
              "  }\n",
              "\n",
              "  .colab-df-quickchart-complete:disabled,\n",
              "  .colab-df-quickchart-complete:disabled:hover {\n",
              "    background-color: var(--disabled-bg-color);\n",
              "    fill: var(--disabled-fill-color);\n",
              "    box-shadow: none;\n",
              "  }\n",
              "\n",
              "  .colab-df-spinner {\n",
              "    border: 2px solid var(--fill-color);\n",
              "    border-color: transparent;\n",
              "    border-bottom-color: var(--fill-color);\n",
              "    animation:\n",
              "      spin 1s steps(1) infinite;\n",
              "  }\n",
              "\n",
              "  @keyframes spin {\n",
              "    0% {\n",
              "      border-color: transparent;\n",
              "      border-bottom-color: var(--fill-color);\n",
              "      border-left-color: var(--fill-color);\n",
              "    }\n",
              "    20% {\n",
              "      border-color: transparent;\n",
              "      border-left-color: var(--fill-color);\n",
              "      border-top-color: var(--fill-color);\n",
              "    }\n",
              "    30% {\n",
              "      border-color: transparent;\n",
              "      border-left-color: var(--fill-color);\n",
              "      border-top-color: var(--fill-color);\n",
              "      border-right-color: var(--fill-color);\n",
              "    }\n",
              "    40% {\n",
              "      border-color: transparent;\n",
              "      border-right-color: var(--fill-color);\n",
              "      border-top-color: var(--fill-color);\n",
              "    }\n",
              "    60% {\n",
              "      border-color: transparent;\n",
              "      border-right-color: var(--fill-color);\n",
              "    }\n",
              "    80% {\n",
              "      border-color: transparent;\n",
              "      border-right-color: var(--fill-color);\n",
              "      border-bottom-color: var(--fill-color);\n",
              "    }\n",
              "    90% {\n",
              "      border-color: transparent;\n",
              "      border-bottom-color: var(--fill-color);\n",
              "    }\n",
              "  }\n",
              "</style>\n",
              "\n",
              "      <script>\n",
              "        async function quickchart(key) {\n",
              "          const quickchartButtonEl =\n",
              "            document.querySelector('#' + key + ' button');\n",
              "          quickchartButtonEl.disabled = true;  // To prevent multiple clicks.\n",
              "          quickchartButtonEl.classList.add('colab-df-spinner');\n",
              "          try {\n",
              "            const charts = await google.colab.kernel.invokeFunction(\n",
              "                'suggestCharts', [key], {});\n",
              "          } catch (error) {\n",
              "            console.error('Error during call to suggestCharts:', error);\n",
              "          }\n",
              "          quickchartButtonEl.classList.remove('colab-df-spinner');\n",
              "          quickchartButtonEl.classList.add('colab-df-quickchart-complete');\n",
              "        }\n",
              "        (() => {\n",
              "          let quickchartButtonEl =\n",
              "            document.querySelector('#df-301b43c8-e9eb-43ae-b48d-7112f7d42388 button');\n",
              "          quickchartButtonEl.style.display =\n",
              "            google.colab.kernel.accessAllowed ? 'block' : 'none';\n",
              "        })();\n",
              "      </script>\n",
              "    </div>\n",
              "\n",
              "    </div>\n",
              "  </div>\n"
            ],
            "application/vnd.google.colaboratory.intrinsic+json": {
              "type": "dataframe",
              "variable_name": "app_reviews_df",
              "summary": "{\n  \"name\": \"app_reviews_df\",\n  \"rows\": 76500,\n  \"fields\": [\n    {\n      \"column\": \"reviewId\",\n      \"properties\": {\n        \"dtype\": \"string\",\n        \"num_unique_values\": 76500,\n        \"samples\": [\n          \"d2ed1957-15c1-49ec-a37e-95c4ec39f250\",\n          \"6344aa9d-f2e3-4f36-922b-bc3f971c3e3e\",\n          \"fd83e3e2-81bb-480e-b7b6-23a6b97c0cbf\"\n        ],\n        \"semantic_type\": \"\",\n        \"description\": \"\"\n      }\n    },\n    {\n      \"column\": \"userName\",\n      \"properties\": {\n        \"dtype\": \"category\",\n        \"num_unique_values\": 1,\n        \"samples\": [\n          \"A Google user\"\n        ],\n        \"semantic_type\": \"\",\n        \"description\": \"\"\n      }\n    },\n    {\n      \"column\": \"userImage\",\n      \"properties\": {\n        \"dtype\": \"category\",\n        \"num_unique_values\": 1,\n        \"samples\": [\n          \"https://play-lh.googleusercontent.com/EGemoI2NTXmTsBVtJqk8jxF9rh8ApRWfsIMQSt2uE4OcpQqbFu7f7NbTK05lx80nuSijCz7sc3a277R67g\"\n        ],\n        \"semantic_type\": \"\",\n        \"description\": \"\"\n      }\n    },\n    {\n      \"column\": \"content\",\n      \"properties\": {\n        \"dtype\": \"string\",\n        \"num_unique_values\": 76488,\n        \"samples\": [\n          \"Too much explicit stuff is allowed to play even when you have explicit definitely off. It's frustrating as whilst it might not be conciderd highly explicit it's still language I don't want my child hearing.... Dissappointing\"\n        ],\n        \"semantic_type\": \"\",\n        \"description\": \"\"\n      }\n    },\n    {\n      \"column\": \"score\",\n      \"properties\": {\n        \"dtype\": \"number\",\n        \"std\": 1,\n        \"min\": 1,\n        \"max\": 5,\n        \"num_unique_values\": 5,\n        \"samples\": [\n          2\n        ],\n        \"semantic_type\": \"\",\n        \"description\": \"\"\n      }\n    },\n    {\n      \"column\": \"thumbsUpCount\",\n      \"properties\": {\n        \"dtype\": \"number\",\n        \"std\": 285,\n        \"min\": 0,\n        \"max\": 31108,\n        \"num_unique_values\": 982,\n        \"samples\": [\n          679\n        ],\n        \"semantic_type\": \"\",\n        \"description\": \"\"\n      }\n    },\n    {\n      \"column\": \"reviewCreatedVersion\",\n      \"properties\": {\n        \"dtype\": \"category\",\n        \"num_unique_values\": 498,\n        \"samples\": [\n          \"8.5.4.39\"\n        ],\n        \"semantic_type\": \"\",\n        \"description\": \"\"\n      }\n    },\n    {\n      \"column\": \"at\",\n      \"properties\": {\n        \"dtype\": \"object\",\n        \"num_unique_values\": 76439,\n        \"samples\": [\n          \"2023-10-18 08:47:51\"\n        ],\n        \"semantic_type\": \"\",\n        \"description\": \"\"\n      }\n    },\n    {\n      \"column\": \"replyContent\",\n      \"properties\": {\n        \"dtype\": \"category\",\n        \"num_unique_values\": 3240,\n        \"samples\": [\n          \"Hey! Hey, that\\u2019s odd. We recommend reinstalling the app to see if that makes a difference. If not, it\\u2019d be best if you reach out to our support team so they can look into this. You can find them by heading to support.spotify.com and searching \\u2018Contact us'.\"\n        ],\n        \"semantic_type\": \"\",\n        \"description\": \"\"\n      }\n    },\n    {\n      \"column\": \"repliedAt\",\n      \"properties\": {\n        \"dtype\": \"object\",\n        \"num_unique_values\": 11659,\n        \"samples\": [\n          \"2025-04-04 12:51:50\"\n        ],\n        \"semantic_type\": \"\",\n        \"description\": \"\"\n      }\n    },\n    {\n      \"column\": \"appVersion\",\n      \"properties\": {\n        \"dtype\": \"category\",\n        \"num_unique_values\": 498,\n        \"samples\": [\n          \"8.5.4.39\"\n        ],\n        \"semantic_type\": \"\",\n        \"description\": \"\"\n      }\n    }\n  ]\n}"
            }
          },
          "metadata": {},
          "execution_count": 77
        }
      ]
    },
    {
      "cell_type": "code",
      "source": [
        "app_reviews_df = app_reviews_df.sample(n=50000, random_state=42)"
      ],
      "metadata": {
        "id": "0_O0XivoJZkJ"
      },
      "execution_count": null,
      "outputs": []
    },
    {
      "cell_type": "markdown",
      "source": [
        "## Data Assessing"
      ],
      "metadata": {
        "id": "DCfnSnb1PAkB"
      }
    },
    {
      "cell_type": "code",
      "source": [
        "app_reviews_df.info()"
      ],
      "metadata": {
        "id": "XiJ-yMulPCJZ",
        "colab": {
          "base_uri": "https://localhost:8080/"
        },
        "outputId": "f6f90e39-dca6-4ddf-c99a-7533d4ae3dcb"
      },
      "execution_count": null,
      "outputs": [
        {
          "output_type": "stream",
          "name": "stdout",
          "text": [
            "<class 'pandas.core.frame.DataFrame'>\n",
            "Index: 50000 entries, 41768 to 61985\n",
            "Data columns (total 11 columns):\n",
            " #   Column                Non-Null Count  Dtype \n",
            "---  ------                --------------  ----- \n",
            " 0   reviewId              50000 non-null  object\n",
            " 1   userName              50000 non-null  object\n",
            " 2   userImage             50000 non-null  object\n",
            " 3   content               50000 non-null  object\n",
            " 4   score                 50000 non-null  int64 \n",
            " 5   thumbsUpCount         50000 non-null  int64 \n",
            " 6   reviewCreatedVersion  46029 non-null  object\n",
            " 7   at                    50000 non-null  object\n",
            " 8   replyContent          7595 non-null   object\n",
            " 9   repliedAt             7595 non-null   object\n",
            " 10  appVersion            46029 non-null  object\n",
            "dtypes: int64(2), object(9)\n",
            "memory usage: 4.6+ MB\n"
          ]
        }
      ]
    },
    {
      "cell_type": "markdown",
      "source": [
        "## Data Cleaning"
      ],
      "metadata": {
        "id": "4rd6qqGsOsUY"
      }
    },
    {
      "cell_type": "code",
      "source": [
        "# Delete duplicate row\n",
        "clean_df = app_reviews_df.drop_duplicates()"
      ],
      "metadata": {
        "id": "IeV9iqrdQB2r"
      },
      "execution_count": null,
      "outputs": []
    },
    {
      "cell_type": "code",
      "source": [
        "clean_df.info()"
      ],
      "metadata": {
        "id": "pZVy1gyHP1GL",
        "colab": {
          "base_uri": "https://localhost:8080/"
        },
        "outputId": "626bd732-0af5-481c-f802-6b9ce608f61a"
      },
      "execution_count": null,
      "outputs": [
        {
          "output_type": "stream",
          "name": "stdout",
          "text": [
            "<class 'pandas.core.frame.DataFrame'>\n",
            "Index: 50000 entries, 41768 to 61985\n",
            "Data columns (total 11 columns):\n",
            " #   Column                Non-Null Count  Dtype \n",
            "---  ------                --------------  ----- \n",
            " 0   reviewId              50000 non-null  object\n",
            " 1   userName              50000 non-null  object\n",
            " 2   userImage             50000 non-null  object\n",
            " 3   content               50000 non-null  object\n",
            " 4   score                 50000 non-null  int64 \n",
            " 5   thumbsUpCount         50000 non-null  int64 \n",
            " 6   reviewCreatedVersion  46029 non-null  object\n",
            " 7   at                    50000 non-null  object\n",
            " 8   replyContent          7595 non-null   object\n",
            " 9   repliedAt             7595 non-null   object\n",
            " 10  appVersion            46029 non-null  object\n",
            "dtypes: int64(2), object(9)\n",
            "memory usage: 4.6+ MB\n"
          ]
        }
      ]
    },
    {
      "cell_type": "markdown",
      "source": [
        "# Preprocessing"
      ],
      "metadata": {
        "id": "JGJdPM8UQQkM"
      }
    },
    {
      "cell_type": "markdown",
      "source": [
        "## Removing Special Characters"
      ],
      "metadata": {
        "id": "ypcxzG6hQdYU"
      }
    },
    {
      "cell_type": "code",
      "source": [
        "def cleaningText(text):\n",
        "    text = re.sub(r'@[A-Za-z0-9]+', '', text) # delete mention\n",
        "    text = re.sub(r'#[A-Za-z0-9]+', '', text) # delete hashtag\n",
        "    text = re.sub(r'RT[\\s]', '', text) # delete RT (for tweets only)\n",
        "    text = re.sub(r\"http\\S+\", '', text) # delete link\n",
        "    text = re.sub(r'[0-9]+', '', text) # delete number\n",
        "    text = re.sub(r'[^\\w\\s]', '', text) # delete other special characters\n",
        "\n",
        "    text = text.replace('\\n', ' ') # replace new row with space\n",
        "    text = text.translate(str.maketrans('', '', string.punctuation)) # replace punctuation\n",
        "    text = text.strip(' ') # delete space from left and right side of the text\n",
        "    return text"
      ],
      "metadata": {
        "id": "KqN7ItxjQgK8"
      },
      "execution_count": null,
      "outputs": []
    },
    {
      "cell_type": "markdown",
      "source": [
        "## Case Folding"
      ],
      "metadata": {
        "id": "lkCGt0TgQSrD"
      }
    },
    {
      "cell_type": "code",
      "source": [
        "def casefoldingText(text): # lowering the text\n",
        "    text = text.lower()\n",
        "    return text"
      ],
      "metadata": {
        "id": "2nilDiwgQgxM"
      },
      "execution_count": null,
      "outputs": []
    },
    {
      "cell_type": "markdown",
      "source": [
        "## Tokenizing"
      ],
      "metadata": {
        "id": "uJr0wqWSRoDl"
      }
    },
    {
      "cell_type": "code",
      "source": [
        "def tokenizingText(text): # Tokenize text\n",
        "    text = word_tokenize(text)\n",
        "    return text"
      ],
      "metadata": {
        "id": "13BlkNf-Rp5m"
      },
      "execution_count": null,
      "outputs": []
    },
    {
      "cell_type": "markdown",
      "source": [
        "## Stopwords & Slangwords"
      ],
      "metadata": {
        "id": "zmy1_VT5R0tO"
      }
    },
    {
      "cell_type": "code",
      "source": [
        "def filteringText(text): # delete stopwords\n",
        "    listStopwords = set(stopwords.words('english'))\n",
        "\n",
        "    filtered = []\n",
        "    for txt in text:\n",
        "        if txt not in listStopwords:\n",
        "            filtered.append(txt)\n",
        "    text = filtered\n",
        "    return text"
      ],
      "metadata": {
        "id": "Hf9nYJvnR14e"
      },
      "execution_count": null,
      "outputs": []
    },
    {
      "cell_type": "code",
      "source": [
        "slangwords = {}\n",
        "\n",
        "def fix_slangwords(text):\n",
        "    words = text.split()\n",
        "    fixed_words = []\n",
        "\n",
        "    for word in words:\n",
        "        if word.lower() in slangwords:\n",
        "            fixed_words.append(slangwords[word.lower()])\n",
        "        else:\n",
        "            fixed_words.append(word)\n",
        "\n",
        "    fixed_text = ' '.join(fixed_words)\n",
        "    return fixed_text"
      ],
      "metadata": {
        "id": "togPXDRrSU-W"
      },
      "execution_count": null,
      "outputs": []
    },
    {
      "cell_type": "markdown",
      "source": [
        "## Lemmatization"
      ],
      "metadata": {
        "id": "5pOcTlZCTGCB"
      }
    },
    {
      "cell_type": "code",
      "source": [
        "from nltk.stem import WordNetLemmatizer\n",
        "nltk.download('wordnet')\n",
        "\n",
        "def lemmatizingText(text): # Mengurangi kata ke bentuk dasarnya yang menghilangkan imbuhan awalan dan akhiran atau ke akar kata\n",
        "    # Create lemmatizer object\n",
        "    lemmatizer = WordNetLemmatizer()\n",
        "\n",
        "    words = text\n",
        "\n",
        "    # Implement lemmatizing to each word in words\n",
        "    lemma_words = [lemmatizer.lemmatize(word.lower()) for word in words]\n",
        "\n",
        "    # Join the word to form a sentence\n",
        "    lemmatized_text = ' '.join(lemma_words)\n",
        "\n",
        "    return lemmatized_text"
      ],
      "metadata": {
        "id": "HWUdw4uVTHzi",
        "colab": {
          "base_uri": "https://localhost:8080/"
        },
        "outputId": "1a9e9111-2173-4b46-956a-1043dd62a3cb"
      },
      "execution_count": null,
      "outputs": [
        {
          "output_type": "stream",
          "name": "stderr",
          "text": [
            "[nltk_data] Downloading package wordnet to /root/nltk_data...\n",
            "[nltk_data]   Package wordnet is already up-to-date!\n"
          ]
        }
      ]
    },
    {
      "cell_type": "markdown",
      "source": [
        "## Applying"
      ],
      "metadata": {
        "id": "S9vokCIqSYLH"
      }
    },
    {
      "cell_type": "code",
      "source": [
        "# clean the text and save it to text_clean\n",
        "clean_df['text_clean'] = clean_df['content'].apply(cleaningText)\n",
        "\n",
        "# Lower the text and save it to text_casefoldingText\n",
        "clean_df['text_casefoldingText'] = clean_df['text_clean'].apply(casefoldingText)\n",
        "\n",
        "# Convert the slang word and save it to text_slangword\n",
        "# clean_df['text_slangwords'] = clean_df['text_casefoldingText'].apply(fix_slangwords)\n",
        "\n",
        "# clean_df['text_tokenizingText'] = clean_df['text_slangwords'].apply(tokenizingText)\n",
        "# Tokenize the text and save it to text_tokenizingText\n",
        "clean_df['text_tokenizingText'] = clean_df['text_casefoldingText'].apply(tokenizingText)\n",
        "\n",
        "# Delete stopwords and save it to text_stopword\n",
        "clean_df['text_stopword'] = clean_df['text_tokenizingText'].apply(filteringText)\n",
        "\n",
        "# reduce the word to its base word\n",
        "clean_df['text_lemmatized'] = clean_df['text_stopword'].apply(lemmatizingText)"
      ],
      "metadata": {
        "id": "bIXJClB0S_94"
      },
      "execution_count": null,
      "outputs": []
    },
    {
      "cell_type": "code",
      "source": [
        "clean_df.info()"
      ],
      "metadata": {
        "id": "7GIDG4Ic_Nxf",
        "colab": {
          "base_uri": "https://localhost:8080/"
        },
        "outputId": "38a32244-9fe2-4abd-ab5e-950cb96e0dd4"
      },
      "execution_count": null,
      "outputs": [
        {
          "output_type": "stream",
          "name": "stdout",
          "text": [
            "<class 'pandas.core.frame.DataFrame'>\n",
            "Index: 50000 entries, 41768 to 61985\n",
            "Data columns (total 16 columns):\n",
            " #   Column                Non-Null Count  Dtype \n",
            "---  ------                --------------  ----- \n",
            " 0   reviewId              50000 non-null  object\n",
            " 1   userName              50000 non-null  object\n",
            " 2   userImage             50000 non-null  object\n",
            " 3   content               50000 non-null  object\n",
            " 4   score                 50000 non-null  int64 \n",
            " 5   thumbsUpCount         50000 non-null  int64 \n",
            " 6   reviewCreatedVersion  46029 non-null  object\n",
            " 7   at                    50000 non-null  object\n",
            " 8   replyContent          7595 non-null   object\n",
            " 9   repliedAt             7595 non-null   object\n",
            " 10  appVersion            46029 non-null  object\n",
            " 11  text_clean            50000 non-null  object\n",
            " 12  text_casefoldingText  50000 non-null  object\n",
            " 13  text_tokenizingText   50000 non-null  object\n",
            " 14  text_stopword         50000 non-null  object\n",
            " 15  text_lemmatized       50000 non-null  object\n",
            "dtypes: int64(2), object(14)\n",
            "memory usage: 6.5+ MB\n"
          ]
        }
      ]
    },
    {
      "cell_type": "markdown",
      "source": [
        "## Labelling"
      ],
      "metadata": {
        "id": "lI3QJrMYThQ7"
      }
    },
    {
      "cell_type": "code",
      "source": [
        "from nltk.sentiment import SentimentIntensityAnalyzer\n",
        "import nltk\n",
        "nltk.download('vader_lexicon') # use vader lexicon for english lexicon\n",
        "\n",
        "sia = SentimentIntensityAnalyzer()\n",
        "\n",
        "def sentiment_analysis_lexicon(text):\n",
        "    sentence = ' '.join(text)\n",
        "    scores = sia.polarity_scores(text)\n",
        "    compound_score = scores['compound']\n",
        "\n",
        "    # decide polarity based on score compound\n",
        "    if compound_score >= 0.05:\n",
        "        polarity = 'positive'\n",
        "    elif compound_score <= -0.05:\n",
        "        polarity = 'negative'\n",
        "    else:\n",
        "        polarity = 'neutral'\n",
        "\n",
        "    return compound_score, polarity"
      ],
      "metadata": {
        "id": "Ct2pqFVjUYA4",
        "colab": {
          "base_uri": "https://localhost:8080/"
        },
        "outputId": "b7a03746-c885-44aa-8982-0e83be84ee48"
      },
      "execution_count": null,
      "outputs": [
        {
          "output_type": "stream",
          "name": "stderr",
          "text": [
            "[nltk_data] Downloading package vader_lexicon to /root/nltk_data...\n",
            "[nltk_data]   Package vader_lexicon is already up-to-date!\n"
          ]
        }
      ]
    },
    {
      "cell_type": "code",
      "source": [
        "clean_df['text_lemmatized'].head()"
      ],
      "metadata": {
        "id": "7LOHRiavu7Tq",
        "colab": {
          "base_uri": "https://localhost:8080/",
          "height": 241
        },
        "outputId": "45fbea37-bb14-4250-94aa-5fe5fb68803f"
      },
      "execution_count": null,
      "outputs": [
        {
          "output_type": "execute_result",
          "data": {
            "text/plain": [
              "41768                   well app favorite song app perfect\n",
              "26298    listened spotify year pain give low score new ...\n",
              "67265    forced shuffle play free user recent update ma...\n",
              "23766    there interesting feature appreciate recommend...\n",
              "47094    good early day even cant listen song anytime c...\n",
              "Name: text_lemmatized, dtype: object"
            ],
            "text/html": [
              "<div>\n",
              "<style scoped>\n",
              "    .dataframe tbody tr th:only-of-type {\n",
              "        vertical-align: middle;\n",
              "    }\n",
              "\n",
              "    .dataframe tbody tr th {\n",
              "        vertical-align: top;\n",
              "    }\n",
              "\n",
              "    .dataframe thead th {\n",
              "        text-align: right;\n",
              "    }\n",
              "</style>\n",
              "<table border=\"1\" class=\"dataframe\">\n",
              "  <thead>\n",
              "    <tr style=\"text-align: right;\">\n",
              "      <th></th>\n",
              "      <th>text_lemmatized</th>\n",
              "    </tr>\n",
              "  </thead>\n",
              "  <tbody>\n",
              "    <tr>\n",
              "      <th>41768</th>\n",
              "      <td>well app favorite song app perfect</td>\n",
              "    </tr>\n",
              "    <tr>\n",
              "      <th>26298</th>\n",
              "      <td>listened spotify year pain give low score new ...</td>\n",
              "    </tr>\n",
              "    <tr>\n",
              "      <th>67265</th>\n",
              "      <td>forced shuffle play free user recent update ma...</td>\n",
              "    </tr>\n",
              "    <tr>\n",
              "      <th>23766</th>\n",
              "      <td>there interesting feature appreciate recommend...</td>\n",
              "    </tr>\n",
              "    <tr>\n",
              "      <th>47094</th>\n",
              "      <td>good early day even cant listen song anytime c...</td>\n",
              "    </tr>\n",
              "  </tbody>\n",
              "</table>\n",
              "</div><br><label><b>dtype:</b> object</label>"
            ]
          },
          "metadata": {},
          "execution_count": 92
        }
      ]
    },
    {
      "cell_type": "code",
      "source": [
        "results = clean_df['text_lemmatized'].apply(sentiment_analysis_lexicon)\n",
        "results = list(zip(*results))\n",
        "clean_df['polarity_score'] = results[0]\n",
        "clean_df['polarity'] = results[1]\n",
        "print(clean_df['polarity'].value_counts())"
      ],
      "metadata": {
        "id": "AFM8tcuyUBua",
        "colab": {
          "base_uri": "https://localhost:8080/"
        },
        "outputId": "3e297f12-9164-4b31-ee47-1937040cd039"
      },
      "execution_count": null,
      "outputs": [
        {
          "output_type": "stream",
          "name": "stdout",
          "text": [
            "polarity\n",
            "positive    33100\n",
            "negative    14820\n",
            "neutral      2080\n",
            "Name: count, dtype: int64\n"
          ]
        }
      ]
    },
    {
      "cell_type": "markdown",
      "source": [
        "# Feature Extraction and Modelling"
      ],
      "metadata": {
        "id": "WQi-4DlPUG9K"
      }
    },
    {
      "cell_type": "code",
      "source": [
        "from tensorflow.keras.preprocessing.text import Tokenizer\n",
        "from tensorflow.keras.preprocessing.sequence import pad_sequences\n",
        "\n",
        "# Tokenizer setup\n",
        "tokenizer = Tokenizer(num_words=10000, oov_token='<OOV>')\n",
        "tokenizer.fit_on_texts(clean_df['text_lemmatized'])  # ini diasumsikan udah teks bersih\n",
        "\n",
        "# Convert to number sequence\n",
        "sequences = tokenizer.texts_to_sequences(clean_df['text_lemmatized'])\n",
        "\n",
        "# Padding to standardize the maxlen\n",
        "maxlen = 100\n",
        "X_padded = pad_sequences(sequences, padding='post', maxlen=maxlen)"
      ],
      "metadata": {
        "id": "p-DqeVym_hGA"
      },
      "execution_count": null,
      "outputs": []
    },
    {
      "cell_type": "code",
      "source": [
        "from sklearn.model_selection import train_test_split\n",
        "y = clean_df['polarity'].map({'negative': 0, 'neutral': 1, 'positive': 2}).values\n",
        "\n",
        "# use one hot encoder\n",
        "# y = pd.get_dummies(clean_df['polarity']).values"
      ],
      "metadata": {
        "id": "xNRqG425DBcX"
      },
      "execution_count": null,
      "outputs": []
    },
    {
      "cell_type": "code",
      "source": [
        "X_train, X_test, y_train, y_test = train_test_split(X_padded, y, test_size=0.2, random_state=42)"
      ],
      "metadata": {
        "id": "5kd5f8VL_qfF"
      },
      "execution_count": null,
      "outputs": []
    },
    {
      "cell_type": "code",
      "source": [
        "from tensorflow.keras.models import Sequential\n",
        "from tensorflow.keras.layers import Embedding, LSTM, Dense, Dropout, Bidirectional\n",
        "from tensorflow.keras.regularizers import l2\n",
        "\n",
        "model = Sequential()\n",
        "model.add(Embedding(input_dim=10000, output_dim=64, input_length=maxlen))  # Automatic word embedding\n",
        "model.add(Bidirectional(LSTM(units=64)))\n",
        "model.add(Dropout(0.2))\n",
        "model.add(Dense(32, activation='relu'))\n",
        "model.add(Dense(3, activation='softmax'))  # 3 classes: neg, neu, pos\n",
        "\n",
        "model.compile(loss='sparse_categorical_crossentropy', optimizer='adam', metrics=['accuracy'])"
      ],
      "metadata": {
        "id": "b4stU-kK_0BG",
        "colab": {
          "base_uri": "https://localhost:8080/"
        },
        "outputId": "d1f04f4c-f72d-4ddd-d16c-b9cb6b03b27d"
      },
      "execution_count": null,
      "outputs": [
        {
          "output_type": "stream",
          "name": "stderr",
          "text": [
            "/usr/local/lib/python3.11/dist-packages/keras/src/layers/core/embedding.py:90: UserWarning: Argument `input_length` is deprecated. Just remove it.\n",
            "  warnings.warn(\n"
          ]
        }
      ]
    },
    {
      "cell_type": "code",
      "source": [
        "import tensorflow as tf\n",
        "\n",
        "class myCallback(tf.keras.callbacks.Callback):\n",
        "  def on_epoch_end(self, epoch, logs={}):\n",
        "    if(logs.get('accuracy')>=0.92):\n",
        "      print(\"\\nAkurasi telah mencapai >=92%!\")\n",
        "      self.model.stop_training = True\n",
        "callbacks = myCallback()"
      ],
      "metadata": {
        "id": "Smk7p37sFpG_"
      },
      "execution_count": null,
      "outputs": []
    },
    {
      "cell_type": "code",
      "source": [
        "hist = model.fit(X_train, y_train, epochs=20, batch_size=128, callbacks=[callbacks])"
      ],
      "metadata": {
        "colab": {
          "base_uri": "https://localhost:8080/"
        },
        "id": "5WEh28wb_0j-",
        "outputId": "b1f0672e-e644-45c3-ad1b-54552f2c2a01"
      },
      "execution_count": null,
      "outputs": [
        {
          "output_type": "stream",
          "name": "stdout",
          "text": [
            "Epoch 1/20\n",
            "\u001b[1m313/313\u001b[0m \u001b[32m━━━━━━━━━━━━━━━━━━━━\u001b[0m\u001b[37m\u001b[0m \u001b[1m92s\u001b[0m 278ms/step - accuracy: 0.7056 - loss: 0.6868\n",
            "Epoch 2/20\n",
            "\u001b[1m313/313\u001b[0m \u001b[32m━━━━━━━━━━━━━━━━━━━━\u001b[0m\u001b[37m\u001b[0m \u001b[1m86s\u001b[0m 274ms/step - accuracy: 0.8536 - loss: 0.3906\n",
            "Epoch 3/20\n",
            "\u001b[1m313/313\u001b[0m \u001b[32m━━━━━━━━━━━━━━━━━━━━\u001b[0m\u001b[37m\u001b[0m \u001b[1m140s\u001b[0m 270ms/step - accuracy: 0.8815 - loss: 0.3310\n",
            "Epoch 4/20\n",
            "\u001b[1m313/313\u001b[0m \u001b[32m━━━━━━━━━━━━━━━━━━━━\u001b[0m\u001b[37m\u001b[0m \u001b[1m84s\u001b[0m 267ms/step - accuracy: 0.8992 - loss: 0.2861\n",
            "Epoch 5/20\n",
            "\u001b[1m313/313\u001b[0m \u001b[32m━━━━━━━━━━━━━━━━━━━━\u001b[0m\u001b[37m\u001b[0m \u001b[1m142s\u001b[0m 269ms/step - accuracy: 0.9202 - loss: 0.2281\n",
            "Epoch 6/20\n",
            "\u001b[1m313/313\u001b[0m \u001b[32m━━━━━━━━━━━━━━━━━━━━\u001b[0m\u001b[37m\u001b[0m \u001b[1m0s\u001b[0m 264ms/step - accuracy: 0.9302 - loss: 0.1944\n",
            "Akurasi telah mencapai >=92%!\n",
            "\u001b[1m313/313\u001b[0m \u001b[32m━━━━━━━━━━━━━━━━━━━━\u001b[0m\u001b[37m\u001b[0m \u001b[1m140s\u001b[0m 265ms/step - accuracy: 0.9302 - loss: 0.1944\n"
          ]
        }
      ]
    },
    {
      "cell_type": "code",
      "source": [
        "# evaluate the model\n",
        "model.evaluate(X_test, y_test, batch_size=1)"
      ],
      "metadata": {
        "id": "dVYJqTf3_6yN",
        "colab": {
          "base_uri": "https://localhost:8080/"
        },
        "outputId": "c50d4285-c549-4ba7-909a-7f8b748c54d0"
      },
      "execution_count": null,
      "outputs": [
        {
          "output_type": "stream",
          "name": "stdout",
          "text": [
            "\u001b[1m10000/10000\u001b[0m \u001b[32m━━━━━━━━━━━━━━━━━━━━\u001b[0m\u001b[37m\u001b[0m \u001b[1m100s\u001b[0m 10ms/step - accuracy: 0.8770 - loss: 0.3757\n"
          ]
        },
        {
          "output_type": "execute_result",
          "data": {
            "text/plain": [
              "[0.3834135830402374, 0.8748000264167786]"
            ]
          },
          "metadata": {},
          "execution_count": 100
        }
      ]
    },
    {
      "cell_type": "code",
      "source": [
        "model.save('model_lstm.h5')"
      ],
      "metadata": {
        "colab": {
          "base_uri": "https://localhost:8080/"
        },
        "id": "dDnWc-D1HRgJ",
        "outputId": "2fe8ef9d-9582-4ca1-ea27-e4807e7c1daf"
      },
      "execution_count": null,
      "outputs": [
        {
          "output_type": "stream",
          "name": "stderr",
          "text": [
            "WARNING:absl:You are saving your model as an HDF5 file via `model.save()` or `keras.saving.save_model(model)`. This file format is considered legacy. We recommend using instead the native Keras format, e.g. `model.save('my_model.keras')` or `keras.saving.save_model(model, 'my_model.keras')`. \n"
          ]
        }
      ]
    },
    {
      "cell_type": "markdown",
      "source": [
        "# Visualization"
      ],
      "metadata": {
        "id": "Xs7cvhFiI_vo"
      }
    },
    {
      "cell_type": "code",
      "source": [
        "# Plot the loss function for trained model\n",
        "plt.plot(hist.history['loss'])\n",
        "plt.title('Model loss')\n",
        "plt.ylabel('Loss')\n",
        "plt.xlabel('Epoch')\n",
        "plt.legend(['Train'], loc='upper right')\n",
        "plt.show()"
      ],
      "metadata": {
        "colab": {
          "base_uri": "https://localhost:8080/",
          "height": 472
        },
        "id": "ziBdU_fSJGko",
        "outputId": "03c45656-f201-41aa-8bd7-eeb231e9a2af"
      },
      "execution_count": null,
      "outputs": [
        {
          "output_type": "display_data",
          "data": {
            "text/plain": [
              "<Figure size 640x480 with 1 Axes>"
            ],
            "image/png": "[encoded data removed]"
          },
          "metadata": {}
        }
      ]
    },
    {
      "cell_type": "code",
      "source": [
        "# Plot the accuracy for trained model\n",
        "plt.plot(hist.history['accuracy'])\n",
        "plt.title('Model accuracy')\n",
        "plt.ylabel('Accuracy')\n",
        "plt.xlabel('Epoch')\n",
        "plt.legend(['Train'], loc='lower right')\n",
        "plt.show()"
      ],
      "metadata": {
        "colab": {
          "base_uri": "https://localhost:8080/",
          "height": 472
        },
        "id": "MdEQ_pdHJIDu",
        "outputId": "b5d85725-f169-45dc-ed9f-723d82b8741a"
      },
      "execution_count": null,
      "outputs": [
        {
          "output_type": "display_data",
          "data": {
            "text/plain": [
              "<Figure size 640x480 with 1 Axes>"
            ],
            "image/png": "[encoded data removed]"
          },
          "metadata": {}
        }
      ]
    }
  ]
}